{
 "cells": [
  {
   "cell_type": "code",
   "execution_count": 1,
   "metadata": {},
   "outputs": [],
   "source": [
    "from yapipe import *"
   ]
  },
  {
   "cell_type": "code",
   "execution_count": 2,
   "metadata": {},
   "outputs": [
    {
     "name": "stdout",
     "output_type": "stream",
     "text": [
      "sum_node initialized with operands:  {'term1': deque([]), 'term2': deque([])}\n"
     ]
    }
   ],
   "source": [
    "sum_node = Sum()\n",
    "print(\"sum_node initialized with operands: \", sum_node.get_ports())"
   ]
  },
  {
   "cell_type": "code",
   "execution_count": 3,
   "metadata": {},
   "outputs": [
    {
     "name": "stdout",
     "output_type": "stream",
     "text": [
      "mul_node initialized with operands:  {'multiplier1': deque([]), 'multiplier2': deque([])}\n"
     ]
    }
   ],
   "source": [
    "mul_node = Mul()\n",
    "print(\"mul_node initialized with operands: \", mul_node.get_ports())"
   ]
  },
  {
   "cell_type": "code",
   "execution_count": 4,
   "metadata": {},
   "outputs": [
    {
     "name": "stdout",
     "output_type": "stream",
     "text": [
      "concat_node initialized with operands:  {'string1': deque([]), 'string2': deque([])}\n"
     ]
    }
   ],
   "source": [
    "concat_node = Concat()\n",
    "print(\"concat_node initialized with operands: \", concat_node.get_ports())"
   ]
  },
  {
   "cell_type": "code",
   "execution_count": 5,
   "metadata": {},
   "outputs": [
    {
     "name": "stdout",
     "output_type": "stream",
     "text": [
      "result_node initialized with operands:  {'conclusion': deque([])}\n"
     ]
    }
   ],
   "source": [
    "result_node = Result()\n",
    "print(\"result_node initialized with operands: \", result_node.get_ports())"
   ]
  },
  {
   "cell_type": "code",
   "execution_count": 6,
   "metadata": {},
   "outputs": [],
   "source": [
    "sum_node.link(mul_node, 'multiplier1')\n",
    "mul_node.link(concat_node, 'string1')\n",
    "concat_node.link(result_node, 'conclusion')"
   ]
  },
  {
   "cell_type": "code",
   "execution_count": 8,
   "metadata": {},
   "outputs": [
    {
     "name": "stdout",
     "output_type": "stream",
     "text": [
      "Reading file...Completed\n"
     ]
    }
   ],
   "source": [
    "file_reading(sum_node)"
   ]
  },
  {
   "cell_type": "code",
   "execution_count": 9,
   "metadata": {},
   "outputs": [
    {
     "name": "stdout",
     "output_type": "stream",
     "text": [
      "sum_node initialized with operands:  {'term1': deque(['10']), 'term2': deque(['5'])}\n"
     ]
    }
   ],
   "source": [
    "print(\"sum_node initialized with operands: \", sum_node.get_ports())"
   ]
  },
  {
   "cell_type": "code",
   "execution_count": 11,
   "metadata": {},
   "outputs": [
    {
     "name": "stdout",
     "output_type": "stream",
     "text": [
      "sum_node's operands:  {'term1': deque(['10']), 'term2': deque(['5'])}\n",
      "mul_node's operands:  {'multiplier1': deque([]), 'multiplier2': deque([])}\n",
      "concat_node's operands:  {'string1': deque([]), 'string2': deque([])}\n"
     ]
    }
   ],
   "source": [
    "print(\"sum_node's operands: \", sum_node.get_ports())\n",
    "print(\"mul_node's operands: \", mul_node.get_ports())\n",
    "print(\"concat_node's operands: \", concat_node.get_ports())"
   ]
  },
  {
   "cell_type": "code",
   "execution_count": 12,
   "metadata": {},
   "outputs": [
    {
     "name": "stdout",
     "output_type": "stream",
     "text": [
      "Reading file...Completed\n",
      "Reading file...Completed\n"
     ]
    }
   ],
   "source": [
    "file_reading(mul_node)\n",
    "file_reading(concat_node)"
   ]
  },
  {
   "cell_type": "code",
   "execution_count": 13,
   "metadata": {},
   "outputs": [
    {
     "name": "stdout",
     "output_type": "stream",
     "text": [
      "sum_node's operands:  {'term1': deque(['10']), 'term2': deque(['5'])}\n",
      "mul_node's operands:  {'multiplier1': deque([]), 'multiplier2': deque(['2'])}\n",
      "concat_node's operands:  {'string1': deque([]), 'string2': deque([' yapipe is done!'])}\n"
     ]
    }
   ],
   "source": [
    "print(\"sum_node's operands: \", sum_node.get_ports())\n",
    "print(\"mul_node's operands: \", mul_node.get_ports())\n",
    "print(\"concat_node's operands: \", concat_node.get_ports())"
   ]
  },
  {
   "cell_type": "code",
   "execution_count": 14,
   "metadata": {},
   "outputs": [],
   "source": [
    "sum_node.do('term1', 'term2')\n",
    "mul_node.do('multiplier1', 'multiplier2')\n",
    "concat_node.do('string1', 'string2')"
   ]
  },
  {
   "cell_type": "code",
   "execution_count": 15,
   "metadata": {},
   "outputs": [
    {
     "name": "stdout",
     "output_type": "stream",
     "text": [
      "sum_node's operands:  {'term1': deque([]), 'term2': deque([])}\n",
      "mul_node's operands:  {'multiplier1': deque([]), 'multiplier2': deque([])}\n",
      "concat_node's operands:  {'string1': deque([]), 'string2': deque([])}\n"
     ]
    }
   ],
   "source": [
    "print(\"sum_node's operands: \", sum_node.get_ports())\n",
    "print(\"mul_node's operands: \", mul_node.get_ports())\n",
    "print(\"concat_node's operands: \", concat_node.get_ports())"
   ]
  },
  {
   "cell_type": "code",
   "execution_count": 16,
   "metadata": {},
   "outputs": [
    {
     "name": "stdout",
     "output_type": "stream",
     "text": [
      "CONCLUSION =  30 yapipe is done!\n"
     ]
    }
   ],
   "source": [
    "result_node.do()"
   ]
  },
  {
   "cell_type": "code",
   "execution_count": null,
   "metadata": {},
   "outputs": [],
   "source": []
  }
 ],
 "metadata": {
  "kernelspec": {
   "display_name": "Python 3",
   "language": "python",
   "name": "python3"
  },
  "language_info": {
   "codemirror_mode": {
    "name": "ipython",
    "version": 3
   },
   "file_extension": ".py",
   "mimetype": "text/x-python",
   "name": "python",
   "nbconvert_exporter": "python",
   "pygments_lexer": "ipython3",
   "version": "3.7.3"
  }
 },
 "nbformat": 4,
 "nbformat_minor": 4
}
